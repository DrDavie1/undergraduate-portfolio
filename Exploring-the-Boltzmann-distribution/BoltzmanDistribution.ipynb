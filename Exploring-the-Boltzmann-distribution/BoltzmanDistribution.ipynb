{
 "cells": [
  {
   "cell_type": "markdown",
   "metadata": {
    "deletable": false,
    "editable": false,
    "nbgrader": {
     "cell_type": "markdown",
     "checksum": "2937f2921a4d28969956bc0801d2f455",
     "grade": false,
     "grade_id": "Introduction",
     "locked": true,
     "schema_version": 3,
     "solution": false,
     "task": false
    }
   },
   "source": [
    "# Exploring the Boltzmann distribution.\n",
    "\n",
    "\n"
   ]
  },
  {
   "cell_type": "markdown",
   "metadata": {
    "deletable": false,
    "editable": false,
    "nbgrader": {
     "cell_type": "markdown",
     "checksum": "e0e52a73dc32126de6502e2b04ee13f7",
     "grade": false,
     "grade_id": "ProgrammeSetup",
     "locked": true,
     "points": 10,
     "schema_version": 3,
     "solution": false,
     "task": true
    }
   },
   "source": [
    "## Programme set up\n"
   ]
  },
  {
   "cell_type": "code",
   "execution_count": 7,
   "metadata": {},
   "outputs": [
    {
     "data": {
      "text/plain": [
       "1000"
      ]
     },
     "execution_count": 7,
     "metadata": {},
     "output_type": "execute_result"
    }
   ],
   "source": [
    "from math import *\n",
    "import random as ran\n",
    "import numpy as np\n",
    "import matplotlib.pyplot as plt\n",
    "\n",
    "N = 500 #number of particles\n",
    "E_0 = 1 #ground state\n",
    "deltE = 1 #change in E\n",
    "\n",
    "particles = np.full(N,(E_0 + deltE)) #array of N partices with initial energy E_1\n",
    "\n",
    "steps = 10000  #steps taken to form distribution\n",
    "\n",
    "#checking the sum before distribution is made\n",
    "np.sum(particles)"
   ]
  },
  {
   "cell_type": "markdown",
   "metadata": {
    "deletable": false,
    "editable": false,
    "nbgrader": {
     "cell_type": "markdown",
     "checksum": "d7dd4ed2eb8e78632c7827129289c405",
     "grade": false,
     "grade_id": "TheLoop",
     "locked": true,
     "points": 10,
     "schema_version": 3,
     "solution": false,
     "task": true
    }
   },
   "source": [
    "## The 'energy exchange loop'\n",
    "\n",
    " This part shows the main loop (or function) that carries out the 10000 steps (i.e. the main loop of the programme). "
   ]
  },
  {
   "cell_type": "code",
   "execution_count": 8,
   "metadata": {},
   "outputs": [
    {
     "data": {
      "text/plain": [
       "1000"
      ]
     },
     "execution_count": 8,
     "metadata": {},
     "output_type": "execute_result"
    }
   ],
   "source": [
    "\n",
    "for i in range(steps):          #looping the process 'steps' times\n",
    "    a = ran.randint(0,N-1)\n",
    "    b = ran.randint(0,N-1)   #random intergers defining the index of E_a and E_b in [particles]\n",
    "    while a == b:            #loop to make sure the same particle loses and gains energy \n",
    "        b = ran.randint(0,N-1)\n",
    "\n",
    "    E_a = particles[a]   #defining E_a and E_b\n",
    "    E_b = particles[b]\n",
    "\n",
    "    if E_a > E_0:\n",
    "        particles[a] -= deltE  #once we know E_a > E_0 we can then take deltaE from E_a and add it to E_b\n",
    "        particles[b] += deltE\n",
    "\n",
    "    \n",
    "\n",
    "#checking the sum and making sure it equals previous sum\n",
    "np.sum(particles)"
   ]
  },
  {
   "cell_type": "markdown",
   "metadata": {
    "deletable": false,
    "editable": false,
    "nbgrader": {
     "cell_type": "markdown",
     "checksum": "1fd9d3341aa08f630981599251ca0a29",
     "grade": false,
     "grade_id": "Plotting",
     "locked": true,
     "points": 10,
     "schema_version": 3,
     "solution": false,
     "task": true
    }
   },
   "source": [
    "## Plotting the results\n",
    "This section includes the plots of the energy of each cell as a function of its array index (i.e. a bar chart of an energy array) and a final histogram of the number of particles in each energy state."
   ]
  },
  {
   "cell_type": "code",
   "execution_count": 9,
   "metadata": {},
   "outputs": [
    {
     "name": "stdout",
     "output_type": "stream",
     "text": [
      "Bar Chart: Energy of Particles as a Function of Index\n"
     ]
    },
    {
     "data": {
      "image/png": "[encoded data removed]",
      "text/plain": [
       "<Figure size 640x480 with 1 Axes>"
      ]
     },
     "metadata": {},
     "output_type": "display_data"
    },
    {
     "name": "stdout",
     "output_type": "stream",
     "text": [
      "Histogram to show frequency of particle energy\n"
     ]
    },
    {
     "data": {
      "image/png": "[encoded data removed]",
      "text/plain": [
       "<Figure size 640x480 with 1 Axes>"
      ]
     },
     "metadata": {},
     "output_type": "display_data"
    },
    {
     "name": "stdout",
     "output_type": "stream",
     "text": [
      "max energy:  11\n",
      "E_0 +  10 deltE\n"
     ]
    }
   ],
   "source": [
    "\n",
    "# y = E x = index(E) and y(x)\n",
    "\n",
    "#creating an array where, index = elememt (same size as particles) this will be x\n",
    "E_index = np.linspace(0,N-1,N)\n",
    "\n",
    "\n",
    "#plotting bar chart just to show it's the same\n",
    "\n",
    "print(\"Bar Chart: Energy of Particles as a Function of Index\")\n",
    "plt.bar(E_index,particles,color=\"red\")\n",
    "plt.show()\n",
    "\n",
    "\n",
    "#finally our histogram\n",
    "#numpy.unique is a very powerful method we can use to return a tuple of (array(energies),array(frequencies))\n",
    "\n",
    "energy,frequency = np.unique(particles, return_counts=True)\n",
    "\n",
    "print(\"Histogram to show frequency of particle energy\")\n",
    "plt.bar(energy,frequency,color=\"purple\")\n",
    "plt.show()\n",
    "\n",
    "E_max = np.max(particles)\n",
    "print(\"max energy: \",E_max)\n",
    "print(\"E_0 + \",E_max - 1,\"deltE\")\n"
   ]
  }
 ],
 "metadata": {
  "kernelspec": {
   "display_name": "Python 3.10.7 64-bit",
   "language": "python",
   "name": "python3"
  },
  "language_info": {
   "codemirror_mode": {
    "name": "ipython",
    "version": 3
   },
   "file_extension": ".py",
   "mimetype": "text/x-python",
   "name": "python",
   "nbconvert_exporter": "python",
   "pygments_lexer": "ipython3",
   "version": "3.10.7"
  },
  "vscode": {
   "interpreter": {
    "hash": "aee8b7b246df8f9039afb4144a1f6fd8d2ca17a180786b69acc140d282b71a49"
   }
  }
 },
 "nbformat": 4,
 "nbformat_minor": 4
}

{
 "cells": [
  {
   "cell_type": "markdown",
   "metadata": {},
   "source": [
    "## Equation 1 ##\n",
    "used in MyArcTan() function \n",
    "\n",
    "\n",
    "$$ arctan(x) = \\sum_{n=0}^{N}{\\frac{(-1)^n}{2n + 1}}{x}^{2n + 1}$$"
   ]
  },
  {
   "cell_type": "markdown",
   "metadata": {},
   "source": [
    "## Equation 2 ##\n",
    "\n",
    "used for the approx_vs_exact() function\n",
    "\n",
    "$$ arctan(x) = \\frac{{\\pi}}{2} - arctan(\\frac{1}{x}) \\space \\space \\space (x > 0) $$\n",
    "$$ arctan(x) = -\\frac{{\\pi}}{2} - arctan(\\frac{1}{x}) \\space \\space \\space (x < 0) $$"
   ]
  },
  {
   "cell_type": "markdown",
   "metadata": {},
   "source": [
    "\n",
    "## Equation 3\n",
    "\n",
    "used for the equation_3() function (approx_pi.py)\n",
    "\n",
    "$$ \\frac{\\pi}{4} = arctan(\\frac{1}{2}) + arctan(\\frac{1}{5}) + arctan(\\frac{1}{8})\n $$",
    "\n"
   ]
  }
 ],
 "metadata": {
  "kernelspec": {
   "display_name": "Python 3.10.7 64-bit",
   "language": "python",
   "name": "python3"
  },
  "language_info": {
   "codemirror_mode": {
    "name": "ipython",
    "version": 3
   },
   "file_extension": ".py",
   "mimetype": "text/x-python",
   "name": "python",
   "nbconvert_exporter": "python",
   "pygments_lexer": "ipython3",
   "version": "3.10.7"
  },
  "orig_nbformat": 4,
  "vscode": {
   "interpreter": {
    "hash": "aee8b7b246df8f9039afb4144a1f6fd8d2ca17a180786b69acc140d282b71a49"
   }
  }
 },
 "nbformat": 4,
 "nbformat_minor": 2
}
